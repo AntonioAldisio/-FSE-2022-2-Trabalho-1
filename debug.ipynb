{
 "cells": [
  {
   "cell_type": "code",
   "execution_count": 2,
   "metadata": {},
   "outputs": [],
   "source": [
    "from src.utils.open_json import open_json"
   ]
  },
  {
   "cell_type": "code",
   "execution_count": 7,
   "metadata": {},
   "outputs": [],
   "source": [
    "data = open_json('src/json/sala_1.json')"
   ]
  },
  {
   "cell_type": "code",
   "execution_count": 9,
   "metadata": {},
   "outputs": [],
   "source": [
    "test = data['sensor_temperatura'][0]['gpio']"
   ]
  },
  {
   "cell_type": "code",
   "execution_count": 13,
   "metadata": {},
   "outputs": [
    {
     "data": {
      "text/plain": [
       "'ar-condicionado'"
      ]
     },
     "execution_count": 13,
     "metadata": {},
     "output_type": "execute_result"
    }
   ],
   "source": []
  },
  {
   "cell_type": "code",
   "execution_count": 1,
   "metadata": {},
   "outputs": [
    {
     "ename": "ModuleNotFoundError",
     "evalue": "No module named 'utils'",
     "output_type": "error",
     "traceback": [
      "\u001b[0;31m---------------------------------------------------------------------------\u001b[0m",
      "\u001b[0;31mModuleNotFoundError\u001b[0m                       Traceback (most recent call last)",
      "Cell \u001b[0;32mIn[1], line 1\u001b[0m\n\u001b[0;32m----> 1\u001b[0m \u001b[39mfrom\u001b[39;00m \u001b[39msrc\u001b[39;00m\u001b[39m.\u001b[39;00m\u001b[39mutils\u001b[39;00m\u001b[39m.\u001b[39;00m\u001b[39mtroca_comando\u001b[39;00m \u001b[39mimport\u001b[39;00m get_command\n\u001b[1;32m      3\u001b[0m \u001b[39mif\u001b[39;00m (get_command \u001b[39m==\u001b[39m \u001b[39m'\u001b[39m\u001b[39mON\u001b[39m\u001b[39m'\u001b[39m):\n\u001b[1;32m      4\u001b[0m     \u001b[39mprint\u001b[39m(\u001b[39m'\u001b[39m\u001b[39mHello\u001b[39m\u001b[39m'\u001b[39m)\n",
      "File \u001b[0;32m~/Library/CloudStorage/OneDrive-Personal/02_UnB/03_Software/05/FSE/FSE-2022-2-Trabalho-1/src/utils/troca_comando.py:1\u001b[0m\n\u001b[0;32m----> 1\u001b[0m \u001b[39mfrom\u001b[39;00m \u001b[39mutils\u001b[39;00m\u001b[39m.\u001b[39;00m\u001b[39mparse_json\u001b[39;00m \u001b[39mimport\u001b[39;00m parse_json\n\u001b[1;32m      2\u001b[0m \u001b[39mfrom\u001b[39;00m \u001b[39mutils\u001b[39;00m\u001b[39m.\u001b[39;00m\u001b[39msave_json\u001b[39;00m \u001b[39mimport\u001b[39;00m save_json\n\u001b[1;32m      5\u001b[0m \u001b[39mdef\u001b[39;00m \u001b[39mput_command\u001b[39m(sala:\u001b[39mstr\u001b[39m, nivel:\u001b[39mint\u001b[39m, chave:\u001b[39mstr\u001b[39m):\n",
      "\u001b[0;31mModuleNotFoundError\u001b[0m: No module named 'utils'"
     ]
    }
   ],
   "source": [
    "from src.utils.troca_comando import get_command\n",
    "\n",
    "if (get_command == 'ON'):\n",
    "    print('Hello')"
   ]
  },
  {
   "cell_type": "code",
   "execution_count": 8,
   "metadata": {},
   "outputs": [
    {
     "data": {
      "text/plain": [
       "'ON'"
      ]
     },
     "execution_count": 8,
     "metadata": {},
     "output_type": "execute_result"
    }
   ],
   "source": [
    "dic['sala01'][0]['outputs'][4]['status']"
   ]
  },
  {
   "cell_type": "code",
   "execution_count": 1,
   "metadata": {},
   "outputs": [],
   "source": [
    "from src.servidor.status import print_status_sala_02, print_status_sala_01"
   ]
  },
  {
   "cell_type": "code",
   "execution_count": 2,
   "metadata": {},
   "outputs": [
    {
     "name": "stdout",
     "output_type": "stream",
     "text": [
      "Informações da sala 02 \n",
      "\n",
      "---------------------- \n",
      "\n",
      "lampada 01: OFF\n",
      "lampada 02: OFF\n",
      "projetor: OFF\n",
      "ar-condicionado: OFF\n",
      "---------------------- \n",
      "\n",
      "\n",
      "sensor de presença: 0\n",
      "sensor de fumaça: 0\n",
      "janela: fechada\n",
      "porta: fechada\n",
      "contagem de pessoas - Entrada: 0\n",
      "---------------------- \n",
      "\n",
      "temperatura: 0\n",
      "umidade: 0\n",
      "---------------------- \n",
      "\n"
     ]
    }
   ],
   "source": [
    "print_status_sala_02()"
   ]
  },
  {
   "cell_type": "markdown",
   "metadata": {},
   "source": []
  }
 ],
 "metadata": {
  "kernelspec": {
   "display_name": "Python 3",
   "language": "python",
   "name": "python3"
  },
  "language_info": {
   "codemirror_mode": {
    "name": "ipython",
    "version": 3
   },
   "file_extension": ".py",
   "mimetype": "text/x-python",
   "name": "python",
   "nbconvert_exporter": "python",
   "pygments_lexer": "ipython3",
   "version": "3.9.13"
  },
  "orig_nbformat": 4,
  "vscode": {
   "interpreter": {
    "hash": "aee8b7b246df8f9039afb4144a1f6fd8d2ca17a180786b69acc140d282b71a49"
   }
  }
 },
 "nbformat": 4,
 "nbformat_minor": 2
}
